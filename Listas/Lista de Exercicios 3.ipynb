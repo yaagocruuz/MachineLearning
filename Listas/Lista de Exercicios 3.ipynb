{
 "cells": [
  {
   "cell_type": "markdown",
   "metadata": {},
   "source": [
    "# 2. Crie um Jupyter Notebook e use as bibliotecas criadas na Questão 1 para fazer o que se pede:"
   ]
  },
  {
   "cell_type": "markdown",
   "metadata": {},
   "source": [
    "## 2.a Represente os dados a seguir:"
   ]
  },
  {
   "cell_type": "code",
   "execution_count": 1,
   "metadata": {},
   "outputs": [
    {
     "data": {
      "text/plain": [
       "(array([1400., 1600., 1700., 1875., 1100., 1550., 2350., 2450., 1425.,\n",
       "        1700.]),\n",
       " array([245., 312., 279., 308., 199., 219., 405., 324., 319., 255.]))"
      ]
     },
     "execution_count": 1,
     "metadata": {},
     "output_type": "execute_result"
    }
   ],
   "source": [
    "from mylibs import stats as st, resample as rs, metrics as mt, linear_regression as lr, numpy as np\n",
    "from sklearn import linear_model, metrics\n",
    "from math import sqrt\n",
    "\n",
    "dados = np.array([[1400,245.000], [1600,312.000], [1700,279.000], [1875,308.000], [1100,199.000],\n",
    "            [1550,219.000], [2350,405.000], [2450,324.000], [1425,319.000], [1700,255.000]])\n",
    "\n",
    "X = dados[:, 0]\n",
    "y = dados[:, 1]\n",
    "\n",
    "X,y"
   ]
  },
  {
   "cell_type": "markdown",
   "metadata": {},
   "source": [
    "## 2.b Calcule média, desvio padrão e variância de X"
   ]
  },
  {
   "cell_type": "code",
   "execution_count": 2,
   "metadata": {},
   "outputs": [
    {
     "name": "stdout",
     "output_type": "stream",
     "text": [
      "1715.0\n",
      "157150.0\n",
      "396.42149285829595\n"
     ]
    }
   ],
   "source": [
    "print(st.mean(X))\n",
    "print(st.var(X))\n",
    "print(st.stddev(X))"
   ]
  },
  {
   "cell_type": "markdown",
   "metadata": {},
   "source": [
    "## 2.c Divida os dados X, y para 70% de treino e 30% de teste. O resultado deve estar nas variáveis: X_train, y_train, X_test, y_test."
   ]
  },
  {
   "cell_type": "code",
   "execution_count": 3,
   "metadata": {},
   "outputs": [
    {
     "data": {
      "text/plain": [
       "([2, 8, 4, 9, 1, 6, 7], [3, 0, 5])"
      ]
     },
     "execution_count": 3,
     "metadata": {},
     "output_type": "execute_result"
    }
   ],
   "source": [
    "idx_train, idx_teste = rs.split_train_test(len(X), 0.7, 0)\n",
    "\n",
    "idx_train, idx_teste"
   ]
  },
  {
   "cell_type": "code",
   "execution_count": 4,
   "metadata": {},
   "outputs": [],
   "source": [
    "X_train = X[idx_train]\n",
    "y_train = y[idx_train]\n",
    "X_test = X[idx_teste]\n",
    "y_test = y[idx_teste]"
   ]
  },
  {
   "cell_type": "markdown",
   "metadata": {},
   "source": [
    "## 2.d Crie um modelo de (1) SimpleLinearRegression (sua implementação) e outro modelo usando (2) LinearRegression do Scikit Learn."
   ]
  },
  {
   "cell_type": "code",
   "execution_count": 5,
   "metadata": {},
   "outputs": [],
   "source": [
    "modelo1 = lr.SimpleLinearRegression()\n",
    "modelo2 = linear_model.LinearRegression()"
   ]
  },
  {
   "cell_type": "markdown",
   "metadata": {},
   "source": [
    "## 2.e Treine os modelos com os dados de treino (X_train, y_train)"
   ]
  },
  {
   "cell_type": "code",
   "execution_count": 6,
   "metadata": {},
   "outputs": [
    {
     "data": {
      "text/plain": [
       "(122.4675225626033, 0.10026185331130034)"
      ]
     },
     "execution_count": 6,
     "metadata": {},
     "output_type": "execute_result"
    }
   ],
   "source": [
    "modelo1.fit(X_train, y_train)\n",
    "b0_1 = modelo1.b0\n",
    "b1_1 = modelo1.b1\n",
    "\n",
    "b0_1, b1_1"
   ]
  },
  {
   "cell_type": "code",
   "execution_count": 7,
   "metadata": {},
   "outputs": [
    {
     "data": {
      "text/plain": [
       "(122.46752256260325, 0.10026185331130039)"
      ]
     },
     "execution_count": 7,
     "metadata": {},
     "output_type": "execute_result"
    }
   ],
   "source": [
    "X_train2 = [[i] for i in X_train]\n",
    "modelo2.fit(X_train2, y_train)\n",
    "b1_2 = modelo2.coef_\n",
    "b0_2 = modelo2.intercept_\n",
    "\n",
    "b0_2, b1_2[0]"
   ]
  },
  {
   "cell_type": "markdown",
   "metadata": {},
   "source": [
    "# 2.f Faça as predições para os modelos usando os dados de teste (X_test)]"
   ]
  },
  {
   "cell_type": "code",
   "execution_count": 8,
   "metadata": {},
   "outputs": [
    {
     "data": {
      "text/plain": [
       "(array([1875., 1400., 1550.]),\n",
       " array([310.45849752, 262.8341172 , 277.8733952 ]))"
      ]
     },
     "execution_count": 8,
     "metadata": {},
     "output_type": "execute_result"
    }
   ],
   "source": [
    "y_pred = modelo1.predict(X_test)\n",
    "\n",
    "X_test, y_pred"
   ]
  },
  {
   "cell_type": "code",
   "execution_count": 9,
   "metadata": {},
   "outputs": [
    {
     "data": {
      "text/plain": [
       "([[1875.0], [1400.0], [1550.0]],\n",
       " array([310.45849752, 262.8341172 , 277.8733952 ]))"
      ]
     },
     "execution_count": 9,
     "metadata": {},
     "output_type": "execute_result"
    }
   ],
   "source": [
    "X_test2 = [[i] for i in X_test]\n",
    "y_pred2 = modelo2.predict(X_test2)\n",
    "\n",
    "X_test2, y_pred2"
   ]
  },
  {
   "cell_type": "markdown",
   "metadata": {},
   "source": [
    "## 2.g Calcule as métricas MSE, RMSE e MAE para avaliar os modelos criados comparando os rótulos dos dados de teste (y_test) com os dados preditos (y_pred)."
   ]
  },
  {
   "cell_type": "code",
   "execution_count": 10,
   "metadata": {},
   "outputs": [
    {
     "data": {
      "text/plain": [
       "(1263.3922027033184, 26.388669971611364, 35.54422882414694)"
      ]
     },
     "execution_count": 10,
     "metadata": {},
     "output_type": "execute_result"
    }
   ],
   "source": [
    "mse = mt.mse(y_test, y_pred)\n",
    "rmse = mt.rmse(y_test, y_pred)\n",
    "mae = mt.mae(y_test, y_pred)\n",
    "\n",
    "mse, mae, rmse"
   ]
  },
  {
   "cell_type": "code",
   "execution_count": 13,
   "metadata": {},
   "outputs": [
    {
     "data": {
      "text/plain": [
       "(1263.3922027033184, 26.388669971611364, 35.54422882414694)"
      ]
     },
     "execution_count": 13,
     "metadata": {},
     "output_type": "execute_result"
    }
   ],
   "source": [
    "mse2 = metrics.mean_squared_error(y_test, y_pred2)\n",
    "rmse2 = sqrt(metrics.mean_squared_error(y_test, y_pred2))\n",
    "mae2 = metrics.mean_absolute_error(y_test, y_pred2)\n",
    "\n",
    "mse2, mae2, rmse2"
   ]
  },
  {
   "cell_type": "code",
   "execution_count": null,
   "metadata": {},
   "outputs": [],
   "source": []
  }
 ],
 "metadata": {
  "kernelspec": {
   "display_name": "Python 3",
   "language": "python",
   "name": "python3"
  },
  "language_info": {
   "codemirror_mode": {
    "name": "ipython",
    "version": 3
   },
   "file_extension": ".py",
   "mimetype": "text/x-python",
   "name": "python",
   "nbconvert_exporter": "python",
   "pygments_lexer": "ipython3",
   "version": "3.6.4"
  }
 },
 "nbformat": 4,
 "nbformat_minor": 2
}
