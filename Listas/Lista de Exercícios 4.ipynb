{
 "cells": [
  {
   "cell_type": "markdown",
   "metadata": {},
   "source": [
    "# 2.Use sua implementação de split_k_fold a fim de fazer Cross Validation com k=5 (5-Fold) para obter o MSE de regressões para o seguinte dataset sobre a qualidade de vinhos tintos (winequality-red.csv) (para obter detalhes sobre o dataset clique aqui). Compare as seguintes técnicas de regressão (pode usar as implementações do Scikit Learn):\n",
    "\n",
    "    SGD - Stochastic Gradient Descent Regressor\n",
    "    Linear Regression \n",
    "    Linear SVR\n",
    "    SVR - Epsilon-Support Vector Regression\n",
    "    Random Forest Regressor\n",
    "    Gradient Boosting Regressor"
   ]
  },
  {
   "cell_type": "code",
   "execution_count": 2,
   "metadata": {},
   "outputs": [],
   "source": [
    "import resample as rs\n",
    "import numpy as np\n",
    "from sklearn import linear_model\n",
    "from sklearn import metrics as ms\n",
    "from sklearn.svm import LinearSVR, SVR\n",
    "from sklearn.ensemble import RandomForestRegressor, GradientBoostingRegressor\n",
    "from matplotlib import pyplot as plt\n",
    "import warnings\n",
    "warnings.filterwarnings(\"ignore\")"
   ]
  },
  {
   "cell_type": "code",
   "execution_count": 3,
   "metadata": {},
   "outputs": [],
   "source": [
    "dado = np.genfromtxt(\"datasets/winequality-red.csv\", delimiter=\";\", skip_header=1)"
   ]
  },
  {
   "cell_type": "code",
   "execution_count": 4,
   "metadata": {},
   "outputs": [
    {
     "data": {
      "text/plain": [
       "(1599, 12)"
      ]
     },
     "execution_count": 4,
     "metadata": {},
     "output_type": "execute_result"
    }
   ],
   "source": [
    "dado.shape"
   ]
  },
  {
   "cell_type": "code",
   "execution_count": 5,
   "metadata": {},
   "outputs": [],
   "source": [
    "idx_train, idx_test = rs.split_k_fold(dado.shape[0], 5, True, 0)"
   ]
  },
  {
   "cell_type": "code",
   "execution_count": 7,
   "metadata": {},
   "outputs": [
    {
     "data": {
      "text/plain": [
       "(array([7.4, 7.8, 7.8, ..., 6.3, 5.9, 6. ]),\n",
       " array([0.7  , 0.88 , 0.76 , ..., 0.51 , 0.645, 0.31 ]))"
      ]
     },
     "execution_count": 7,
     "metadata": {},
     "output_type": "execute_result"
    }
   ],
   "source": [
    "X = dado[:, 0]\n",
    "y = dado[:, 1]\n",
    "\n",
    "X,y"
   ]
  },
  {
   "cell_type": "code",
   "execution_count": 10,
   "metadata": {},
   "outputs": [
    {
     "data": {
      "text/plain": [
       "[array([0.32, 0.54, 0.26, ..., 0.57, 0.47, 0.98]),\n",
       " array([0.4  , 0.24 , 0.56 , ..., 0.39 , 0.34 , 0.765]),\n",
       " array([0.715, 0.41 , 0.59 , ..., 0.46 , 0.785, 0.31 ]),\n",
       " array([0.835, 0.49 , 0.44 , ..., 0.59 , 0.46 , 0.64 ]),\n",
       " array([0.665, 0.57 , 0.47 , ..., 0.61 , 0.27 , 0.4  ])]"
      ]
     },
     "execution_count": 10,
     "metadata": {},
     "output_type": "execute_result"
    }
   ],
   "source": [
    "X_train = []\n",
    "y_train = []\n",
    "X_test = []\n",
    "y_test = []\n",
    "\n",
    "X_train_1 = []\n",
    "y_train_1 = []\n",
    "X_test_1 = []\n",
    "y_test_1 = []\n",
    "\n",
    "\n",
    "for i in range(len(idx_train)):\n",
    "    X_train.append(X[idx_train[i]])\n",
    "    y_train.append(y[idx_train[i]])\n",
    "    \n",
    "for i in range(len(idx_test)):\n",
    "    X_test.append(X[idx_test[i]])\n",
    "    y_test.append(y[idx_test[i]])\n",
    "\n",
    "#vetor 2d\n",
    "for i in range(len(idx_train)):\n",
    "    X_train_1.append([[i] for i in X_train[i]])\n",
    "    y_train_1.append([[i] for i in y_train[i]])\n",
    "\n",
    "for i in range(len(idx_test)):\n",
    "    X_test_1.append([[i] for i in X_test[i]])\n",
    "    y_test_1.append([[i] for i in y_test[i]])"
   ]
  },
  {
   "cell_type": "code",
   "execution_count": 7,
   "metadata": {},
   "outputs": [],
   "source": [
    "model_SGD_1 = linear_model.SGDRegressor()\n",
    "model_SGD_2 = linear_model.SGDRegressor()\n",
    "model_SGD_3 = linear_model.SGDRegressor()\n",
    "model_SGD_4 = linear_model.SGDRegressor()\n",
    "model_SGD_5 = linear_model.SGDRegressor()"
   ]
  },
  {
   "cell_type": "markdown",
   "metadata": {},
   "source": [
    "### SGD - Stochastic Gradient Descent Regressor"
   ]
  },
  {
   "cell_type": "code",
   "execution_count": 8,
   "metadata": {},
   "outputs": [
    {
     "data": {
      "text/plain": [
       "0.044315320602397734"
      ]
     },
     "execution_count": 8,
     "metadata": {},
     "output_type": "execute_result"
    }
   ],
   "source": [
    "#modelo 1\n",
    "model_SGD_1.fit(X_train_1[0], y_train_1[0])\n",
    "y_pred_SGD_1 = model_SGD_1.predict(X_test_1[0])\n",
    "sgd_mse_1 = ms.mean_squared_error(y_test_1[0], y_pred_SGD_1)\n",
    "\n",
    "#modelo 2\n",
    "model_SGD_2.fit(X_train_1[1], y_train_1[1])\n",
    "y_pred_SGD_2 = model_SGD_2.predict(X_test_1[1])\n",
    "sgd_mse_2 = ms.mean_squared_error(y_test_1[1], y_pred_SGD_2)\n",
    "\n",
    "#modelo 3\n",
    "model_SGD_3.fit(X_train_1[2], y_train_1[2])\n",
    "y_pred_SGD_3 = model_SGD_3.predict(X_test_1[2])\n",
    "sgd_mse_3 = ms.mean_squared_error(y_test_1[2], y_pred_SGD_3)\n",
    "\n",
    "#modelo 4\n",
    "model_SGD_4.fit(X_train_1[3], y_train_1[3])\n",
    "y_pred_SGD_4 = model_SGD_4.predict(X_test_1[3])\n",
    "sgd_mse_4 = ms.mean_squared_error(y_test_1[3], y_pred_SGD_4)\n",
    "\n",
    "#modelo 5\n",
    "model_SGD_5.fit(X_train_1[4], y_train_1[4])\n",
    "y_pred_SGD_5 = model_SGD_5.predict(X_test_1[4])\n",
    "sgd_mse_5 = ms.mean_squared_error(y_test_1[4], y_pred_SGD_5)\n",
    "\n",
    "perf_SGD = ((sgd_mse_1 + sgd_mse_2 + sgd_mse_3 + sgd_mse_4 + sgd_mse_5) / 5)\n",
    "perf_SGD"
   ]
  },
  {
   "cell_type": "markdown",
   "metadata": {},
   "source": [
    "### Linear Regression "
   ]
  },
  {
   "cell_type": "code",
   "execution_count": 9,
   "metadata": {},
   "outputs": [],
   "source": [
    "model_lr_1 = linear_model.LinearRegression()\n",
    "model_lr_2 = linear_model.LinearRegression()\n",
    "model_lr_3 = linear_model.LinearRegression()\n",
    "model_lr_4 = linear_model.LinearRegression()\n",
    "model_lr_5 = linear_model.LinearRegression()"
   ]
  },
  {
   "cell_type": "code",
   "execution_count": 10,
   "metadata": {},
   "outputs": [],
   "source": [
    "model_lr_1.fit(X_train_1[0], y_train_1[0])\n",
    "y_pred_lr_1 = model_lr_1.predict(X_test_1[0])\n",
    "lr_mse_1 = ms.mean_squared_error(y_test_1[0], y_pred_lr_1)\n",
    "\n",
    "model_lr_2.fit(X_train_1[1], y_train_1[1])\n",
    "y_pred_lr_2 = model_lr_2.predict(X_test_1[1])\n",
    "lr_mse_2 = ms.mean_squared_error(y_test_1[1], y_pred_lr_2)\n",
    "\n",
    "model_lr_3.fit(X_train_1[2], y_train_1[2])\n",
    "y_pred_lr_3 = model_lr_3.predict(X_test_1[2])\n",
    "lr_mse_3 = ms.mean_squared_error(y_test_1[2], y_pred_lr_3)\n",
    "\n",
    "model_lr_4.fit(X_train_1[3], y_train_1[3])\n",
    "y_pred_lr_4 = model_lr_4.predict(X_test_1[3])\n",
    "lr_mse_4 = ms.mean_squared_error(y_test_1[3], y_pred_lr_4)\n",
    "\n",
    "model_lr_5.fit(X_train_1[4], y_train_1[4])\n",
    "y_pred_lr_5 = model_lr_5.predict(X_test_1[4])\n",
    "lr_mse_5 = ms.mean_squared_error(y_test_1[4], y_pred_lr_5)"
   ]
  },
  {
   "cell_type": "code",
   "execution_count": 11,
   "metadata": {},
   "outputs": [
    {
     "data": {
      "text/plain": [
       "0.029930497034959563"
      ]
     },
     "execution_count": 11,
     "metadata": {},
     "output_type": "execute_result"
    }
   ],
   "source": [
    "perf_lr = ((lr_mse_1 + lr_mse_2 + lr_mse_3 + lr_mse_4 + lr_mse_5) / 5)\n",
    "perf_lr"
   ]
  },
  {
   "cell_type": "markdown",
   "metadata": {},
   "source": [
    "### Linear SVR"
   ]
  },
  {
   "cell_type": "code",
   "execution_count": 12,
   "metadata": {},
   "outputs": [],
   "source": [
    "model_lsvr_1 = LinearSVR()\n",
    "model_lsvr_2 = LinearSVR()\n",
    "model_lsvr_3 = LinearSVR()\n",
    "model_lsvr_4 = LinearSVR()\n",
    "model_lsvr_5 = LinearSVR()"
   ]
  },
  {
   "cell_type": "code",
   "execution_count": 13,
   "metadata": {},
   "outputs": [],
   "source": [
    "model_lsvr_1.fit(X_train_1[0], y_train_1[0])\n",
    "y_pred_lsvr_1 = model_lsvr_1.predict(X_test_1[0])\n",
    "lsvr_mse_1 = ms.mean_squared_error(y_test_1[0], y_pred_lsvr_1)\n",
    "\n",
    "model_lsvr_2.fit(X_train_1[1], y_train_1[1])\n",
    "y_pred_lsvr_2 = model_lsvr_2.predict(X_test_1[1])\n",
    "lsvr_mse_2 = ms.mean_squared_error(y_test_1[1], y_pred_lsvr_2)\n",
    "\n",
    "model_lsvr_3.fit(X_train_1[2], y_train_1[2])\n",
    "y_pred_lsvr_3 = model_lsvr_3.predict(X_test_1[2])\n",
    "lsvr_mse_3 = ms.mean_squared_error(y_test_1[2], y_pred_lsvr_3)\n",
    "\n",
    "model_lsvr_4.fit(X_train_1[3], y_train_1[3])\n",
    "y_pred_lsvr_4 = model_lsvr_4.predict(X_test_1[3])\n",
    "lsvr_mse_4 = ms.mean_squared_error(y_test_1[3], y_pred_lsvr_4)\n",
    "\n",
    "model_lsvr_5.fit(X_train_1[4], y_train_1[4])\n",
    "y_pred_lsvr_5 = model_lsvr_5.predict(X_test_1[4])\n",
    "lsvr_mse_5 = ms.mean_squared_error(y_test_1[4], y_pred_lsvr_5)"
   ]
  },
  {
   "cell_type": "code",
   "execution_count": 14,
   "metadata": {},
   "outputs": [
    {
     "data": {
      "text/plain": [
       "0.031702333287014196"
      ]
     },
     "execution_count": 14,
     "metadata": {},
     "output_type": "execute_result"
    }
   ],
   "source": [
    "perf_lsvr = ((lsvr_mse_1 + lsvr_mse_2 + lsvr_mse_3 + lsvr_mse_4 + lsvr_mse_5) / 5)\n",
    "perf_lsvr"
   ]
  },
  {
   "cell_type": "markdown",
   "metadata": {},
   "source": [
    "### SVR - Epsilon-Support Vector Regression"
   ]
  },
  {
   "cell_type": "code",
   "execution_count": 16,
   "metadata": {},
   "outputs": [],
   "source": [
    "model_svr_1 = SVR()\n",
    "model_svr_2 = SVR()\n",
    "model_svr_3 = SVR()\n",
    "model_svr_4 = SVR()\n",
    "model_svr_5 = SVR()"
   ]
  },
  {
   "cell_type": "code",
   "execution_count": 18,
   "metadata": {},
   "outputs": [],
   "source": [
    "model_svr_1.fit(X_train_1[0], y_train_1[0])\n",
    "y_pred_svr_1 = model_svr_1.predict(X_test_1[0])\n",
    "svr_mse_1 = ms.mean_squared_error(y_test_1[0], y_pred_svr_1)\n",
    "\n",
    "model_svr_2.fit(X_train_1[1], y_train_1[1])\n",
    "y_pred_svr_2 = model_svr_2.predict(X_test_1[1])\n",
    "svr_mse_2 = ms.mean_squared_error(y_test_1[1], y_pred_svr_2)\n",
    "\n",
    "model_svr_3.fit(X_train_1[2], y_train_1[2])\n",
    "y_pred_svr_3 = model_svr_3.predict(X_test_1[2])\n",
    "svr_mse_3 = ms.mean_squared_error(y_test_1[2], y_pred_svr_3)\n",
    "\n",
    "model_svr_4.fit(X_train_1[3], y_train_1[3])\n",
    "y_pred_svr_4 = model_svr_4.predict(X_test_1[3])\n",
    "svr_mse_4 = ms.mean_squared_error(y_test_1[3], y_pred_svr_4)\n",
    "\n",
    "model_svr_5.fit(X_train_1[4], y_train_1[4])\n",
    "y_pred_svr_5 = model_svr_5.predict(X_test_1[4])\n",
    "svr_mse_5 = ms.mean_squared_error(y_test_1[4], y_pred_svr_5)"
   ]
  },
  {
   "cell_type": "code",
   "execution_count": 19,
   "metadata": {},
   "outputs": [
    {
     "data": {
      "text/plain": [
       "0.029742411488478983"
      ]
     },
     "execution_count": 19,
     "metadata": {},
     "output_type": "execute_result"
    }
   ],
   "source": [
    "perf_svr = ((svr_mse_1 + svr_mse_2 + svr_mse_3 + svr_mse_4 + svr_mse_5) / 5)\n",
    "perf_svr"
   ]
  },
  {
   "cell_type": "markdown",
   "metadata": {},
   "source": [
    "### Random Forest Regressor"
   ]
  },
  {
   "cell_type": "code",
   "execution_count": 22,
   "metadata": {},
   "outputs": [],
   "source": [
    "model_rfr_1 = RandomForestRegressor()\n",
    "model_rfr_2 = RandomForestRegressor()\n",
    "model_rfr_3 = RandomForestRegressor()\n",
    "model_rfr_4 = RandomForestRegressor()\n",
    "model_rfr_5 = RandomForestRegressor()"
   ]
  },
  {
   "cell_type": "code",
   "execution_count": 24,
   "metadata": {},
   "outputs": [],
   "source": [
    "model_rfr_1.fit(X_train_1[0], y_train_1[0])\n",
    "y_pred_rfr_1 = model_rfr_1.predict(X_test_1[0])\n",
    "rfr_mse_1 = ms.mean_squared_error(y_test_1[0], y_pred_rfr_1)\n",
    "\n",
    "model_rfr_2.fit(X_train_1[1], y_train_1[1])\n",
    "y_pred_rfr_2 = model_rfr_2.predict(X_test_1[1])\n",
    "rfr_mse_2 = ms.mean_squared_error(y_test_1[1], y_pred_rfr_2)\n",
    "\n",
    "model_rfr_3.fit(X_train_1[2], y_train_1[2])\n",
    "y_pred_rfr_3 = model_rfr_3.predict(X_test_1[2])\n",
    "rfr_mse_3 = ms.mean_squared_error(y_test_1[2], y_pred_rfr_3)\n",
    "\n",
    "model_rfr_4.fit(X_train_1[3], y_train_1[3])\n",
    "y_pred_rfr_4 = model_rfr_4.predict(X_test_1[3])\n",
    "rfr_mse_4 = ms.mean_squared_error(y_test_1[3], y_pred_rfr_4)\n",
    "\n",
    "model_rfr_5.fit(X_train_1[4], y_train_1[4])\n",
    "y_pred_rfr_5 = model_rfr_5.predict(X_test_1[4])\n",
    "rfr_mse_5 = ms.mean_squared_error(y_test_1[4], y_pred_rfr_5)"
   ]
  },
  {
   "cell_type": "code",
   "execution_count": 26,
   "metadata": {},
   "outputs": [
    {
     "data": {
      "text/plain": [
       "0.030161102997754857"
      ]
     },
     "execution_count": 26,
     "metadata": {},
     "output_type": "execute_result"
    }
   ],
   "source": [
    "perf_rfr = (rfr_mse_1 + rfr_mse_2 + rfr_mse_3 + rfr_mse_4 + rfr_mse_5) / 5\n",
    "perf_rfr"
   ]
  },
  {
   "cell_type": "markdown",
   "metadata": {},
   "source": [
    "### Gradient Boosting Regressor"
   ]
  },
  {
   "cell_type": "code",
   "execution_count": 28,
   "metadata": {},
   "outputs": [],
   "source": [
    "model_gbr_1 = GradientBoostingRegressor()\n",
    "model_gbr_2 = GradientBoostingRegressor()\n",
    "model_gbr_3 = GradientBoostingRegressor()\n",
    "model_gbr_4 = GradientBoostingRegressor()\n",
    "model_gbr_5 = GradientBoostingRegressor()"
   ]
  },
  {
   "cell_type": "code",
   "execution_count": 29,
   "metadata": {},
   "outputs": [],
   "source": [
    "model_gbr_1.fit(X_train_1[0], y_train_1[0])\n",
    "y_pred_gbr_1 = model_gbr_1.predict(X_test_1[0])\n",
    "gbr_mse_1 = ms.mean_squared_error(y_test_1[0], y_pred_gbr_1)\n",
    "\n",
    "model_gbr_2.fit(X_train_1[1], y_train_1[1])\n",
    "y_pred_gbr_2 = model_gbr_2.predict(X_test_1[1])\n",
    "gbr_mse_2 = ms.mean_squared_error(y_test_1[1], y_pred_gbr_2)\n",
    "\n",
    "model_gbr_3.fit(X_train_1[2], y_train_1[2])\n",
    "y_pred_gbr_3 = model_gbr_3.predict(X_test_1[2])\n",
    "gbr_mse_3 = ms.mean_squared_error(y_test_1[2], y_pred_gbr_3)\n",
    "\n",
    "model_gbr_4.fit(X_train_1[3], y_train_1[3])\n",
    "y_pred_gbr_4 = model_gbr_4.predict(X_test_1[3])\n",
    "gbr_mse_4 = ms.mean_squared_error(y_test_1[3], y_pred_gbr_4)\n",
    "\n",
    "model_gbr_5.fit(X_train_1[4], y_train_1[4])\n",
    "y_pred_gbr_5 = model_gbr_5.predict(X_test_1[4])\n",
    "gbr_mse_5 = ms.mean_squared_error(y_test_1[4], y_pred_gbr_5)"
   ]
  },
  {
   "cell_type": "code",
   "execution_count": 30,
   "metadata": {},
   "outputs": [
    {
     "data": {
      "text/plain": [
       "0.029402170965826896"
      ]
     },
     "execution_count": 30,
     "metadata": {},
     "output_type": "execute_result"
    }
   ],
   "source": [
    "perf_gbr = (gbr_mse_1 + gbr_mse_2 + gbr_mse_3 + gbr_mse_4 + gbr_mse_5) / 5\n",
    "perf_gbr"
   ]
  },
  {
   "cell_type": "markdown",
   "metadata": {},
   "source": [
    "# 3. Faça um gráfico comparativo entre resultados das avaliações (Evaluation) dos modelos acima."
   ]
  },
  {
   "cell_type": "code",
   "execution_count": 32,
   "metadata": {},
   "outputs": [
    {
     "name": "stdout",
     "output_type": "stream",
     "text": [
      "SGD: 0.044315320602397734\n",
      "LR: 0.029930497034959563\n",
      "LSVR: 0.031702333287014196\n",
      "SVR: 0.029742411488478983\n",
      "RFR: 0.030161102997754857\n",
      "GBR: 0.029402170965826896\n"
     ]
    }
   ],
   "source": [
    "class_names = ['SGD','LR','LSVR','SVR','RFR','GBR']\n",
    "class_ = [perf_SGD, perf_lr, perf_lsvr, perf_svr, perf_rfr, perf_gbr]\n",
    "for i in range(0,len(class_names)):\n",
    "    print(class_names[i] + ': ' + str(class_[i]))"
   ]
  },
  {
   "cell_type": "code",
   "execution_count": 35,
   "metadata": {},
   "outputs": [
    {
     "data": {
      "text/plain": [
       "([<matplotlib.axis.XTick at 0x7f64fcdb0b00>,\n",
       "  <matplotlib.axis.XTick at 0x7f64fcdb06d8>,\n",
       "  <matplotlib.axis.XTick at 0x7f64fcd44588>,\n",
       "  <matplotlib.axis.XTick at 0x7f64fcd14630>,\n",
       "  <matplotlib.axis.XTick at 0x7f64fcd14c88>,\n",
       "  <matplotlib.axis.XTick at 0x7f64fcd21390>],\n",
       " <a list of 6 Text xticklabel objects>)"
      ]
     },
     "execution_count": 35,
     "metadata": {},
     "output_type": "execute_result"
    },
    {
     "data": {
      "image/png": "[encoded data removed]",
      "text/plain": [
       "<matplotlib.figure.Figure at 0x7f64fed7b9b0>"
      ]
     },
     "metadata": {},
     "output_type": "display_data"
    }
   ],
   "source": [
    "plt.grid()\n",
    "plt.bar(range(len(class_names)),class_)\n",
    "plt.xticks(range(len(class_names)), class_names)"
   ]
  },
  {
   "cell_type": "markdown",
   "metadata": {},
   "source": [
    "# 4. Escolha o melhor algoritmo obtido a partir de cross validation e treine um modelo usando o dataset completo, ou seja, gere um modelo final."
   ]
  },
  {
   "cell_type": "code",
   "execution_count": 38,
   "metadata": {},
   "outputs": [
    {
     "data": {
      "text/plain": [
       "GradientBoostingRegressor(alpha=0.9, criterion='friedman_mse', init=None,\n",
       "             learning_rate=0.1, loss='ls', max_depth=3, max_features=None,\n",
       "             max_leaf_nodes=None, min_impurity_decrease=0.0,\n",
       "             min_impurity_split=None, min_samples_leaf=1,\n",
       "             min_samples_split=2, min_weight_fraction_leaf=0.0,\n",
       "             n_estimators=100, presort='auto', random_state=None,\n",
       "             subsample=1.0, verbose=0, warm_start=False)"
      ]
     },
     "execution_count": 38,
     "metadata": {},
     "output_type": "execute_result"
    }
   ],
   "source": [
    "X_fm = [[i] for i in X]\n",
    "y_fm = [[i] for i in y]\n",
    "\n",
    "model_gbr = GradientBoostingRegressor()\n",
    "model_gbr.fit(X_fm, y_fm)"
   ]
  },
  {
   "cell_type": "markdown",
   "metadata": {},
   "source": [
    "# 5. Qual a diferença entre Stochastic Gradient Descent e Gradient Descent?"
   ]
  },
  {
   "cell_type": "markdown",
   "metadata": {},
   "source": [
    "### A diferença é que o Gradient Descent utiliza todos os dados de uma vez enquanto que o Stochastic Gradient Descent utiliza subconjuntos dos dados o que o deixa mais rápido com a única contrapartida de que sua função de erro não ser bem minimizada."
   ]
  }
 ],
 "metadata": {
  "kernelspec": {
   "display_name": "Python 3",
   "language": "python",
   "name": "python3"
  },
  "language_info": {
   "codemirror_mode": {
    "name": "ipython",
    "version": 3
   },
   "file_extension": ".py",
   "mimetype": "text/x-python",
   "name": "python",
   "nbconvert_exporter": "python",
   "pygments_lexer": "ipython3",
   "version": "3.6.4"
  }
 },
 "nbformat": 4,
 "nbformat_minor": 2
}
