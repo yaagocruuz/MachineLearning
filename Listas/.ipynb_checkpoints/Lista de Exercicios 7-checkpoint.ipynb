{
 "cells": [
  {
   "cell_type": "code",
   "execution_count": 1,
   "metadata": {},
   "outputs": [],
   "source": [
    "import numpy as np\n",
    "from numpy import sqrt\n",
    "from matplotlib import pyplot as plt\n",
    "import matplotlib.pyplot as plt\n",
    "from itertools import cycle\n",
    "from sklearn.datasets import load_boston, load_breast_cancer\n",
    "from sklearn import preprocessing, linear_model, svm, metrics\n",
    "from sklearn.model_selection import KFold\n",
    "from sklearn.metrics import mean_squared_error, mean_absolute_error\n",
    "from sklearn.neighbors import KNeighborsRegressor, KNeighborsClassifier\n",
    "from sklearn.naive_bayes import GaussianNB\n",
    "import warnings\n",
    "warnings.filterwarnings(\"ignore\")"
   ]
  },
  {
   "cell_type": "markdown",
   "metadata": {},
   "source": [
    "# Regressão \n",
    "\n",
    "    Dataset: boston house-prices dataset\n",
    "    Aplicar Standardization nas features.\n",
    "    Comparar os resultados dos seguintes algoritmos: Gradient Descent, Linear Regression, kNN, Naive Bayes,  SVM\n",
    "    Usar as seguintes métricas: RMSE, MAE\n",
    "    Escolher a melhor técnica e criar um modelo final usando todo o dataset para treinar o modelo."
   ]
  },
  {
   "cell_type": "code",
   "execution_count": 2,
   "metadata": {
    "scrolled": true
   },
   "outputs": [],
   "source": [
    "X, y = load_boston(return_X_y=True)"
   ]
  },
  {
   "cell_type": "code",
   "execution_count": 3,
   "metadata": {},
   "outputs": [
    {
     "name": "stdout",
     "output_type": "stream",
     "text": [
      "KFold(n_splits=5, random_state=42, shuffle=True)\n"
     ]
    }
   ],
   "source": [
    "treino = KFold(n_splits=5, shuffle=True, random_state=42)\n",
    "treino.get_n_splits(X, y)\n",
    "\n",
    "print(treino)  \n",
    "\n",
    "for train_index, test_index in treino.split(X,y):\n",
    "    #print(\"TRAIN:\", train_index, \"TEST:\", test_index)\n",
    "    X_train, X_test = X[train_index], X[test_index]\n",
    "    y_train, y_test = y[train_index], y[test_index]\n",
    "    \n",
    "    "
   ]
  },
  {
   "cell_type": "code",
   "execution_count": 4,
   "metadata": {},
   "outputs": [],
   "source": [
    "#standardize\n",
    "std_scale = preprocessing.StandardScaler().fit(X_train, y_train)\n",
    "X_train_std = std_scale.transform(X_train)\n",
    "X_test_std = std_scale.transform(X_test)"
   ]
  },
  {
   "cell_type": "markdown",
   "metadata": {},
   "source": [
    "## Gradient Descent"
   ]
  },
  {
   "cell_type": "code",
   "execution_count": 5,
   "metadata": {},
   "outputs": [],
   "source": [
    "model_gd = linear_model.SGDRegressor()\n",
    "\n",
    "model_gd.fit(X_train_std, y_train)\n",
    "y_pred_gd = model_gd.predict(X_test_std)\n",
    "\n",
    "gd_rmse = sqrt(mean_squared_error(y_test, y_pred_gd))\n",
    "gd_mae = mean_absolute_error(y_test, y_pred_gd)"
   ]
  },
  {
   "cell_type": "markdown",
   "metadata": {},
   "source": [
    "## Linear Regression"
   ]
  },
  {
   "cell_type": "code",
   "execution_count": 6,
   "metadata": {},
   "outputs": [],
   "source": [
    "model_lr = linear_model.LinearRegression()\n",
    "\n",
    "model_lr.fit(X_train_std, y_train)\n",
    "y_pred_lr = model_lr.predict(X_test_std)\n",
    "\n",
    "lr_rmse = sqrt(mean_squared_error(y_test, y_pred_lr))\n",
    "lr_mae = mean_absolute_error(y_test, y_pred_lr)"
   ]
  },
  {
   "cell_type": "markdown",
   "metadata": {},
   "source": [
    "## KNN"
   ]
  },
  {
   "cell_type": "code",
   "execution_count": 7,
   "metadata": {},
   "outputs": [],
   "source": [
    "model_knn = KNeighborsRegressor()\n",
    "\n",
    "model_knn.fit(X_train_std, y_train)\n",
    "y_pred_knn = model_knn.predict(X_test_std)\n",
    "\n",
    "knn_rmse = sqrt(mean_squared_error(y_test, y_pred_knn))\n",
    "knn_mae = mean_absolute_error(y_test, y_pred_knn)"
   ]
  },
  {
   "cell_type": "markdown",
   "metadata": {},
   "source": [
    "## SVM"
   ]
  },
  {
   "cell_type": "code",
   "execution_count": 8,
   "metadata": {},
   "outputs": [],
   "source": [
    "model_svm = svm.SVR(kernel='linear', C=1, gamma='auto')\n",
    "\n",
    "model_svm.fit(X_train_std, y_train)\n",
    "y_pred_svm = model_svm.predict(X_test_std)\n",
    "\n",
    "svm_rmse = sqrt(mean_squared_error(y_test, y_pred_svm))\n",
    "svm_mae = mean_absolute_error(y_test, y_pred_svm)"
   ]
  },
  {
   "cell_type": "markdown",
   "metadata": {},
   "source": [
    "## RESULTADOS"
   ]
  },
  {
   "cell_type": "code",
   "execution_count": 9,
   "metadata": {},
   "outputs": [
    {
     "name": "stdout",
     "output_type": "stream",
     "text": [
      "GD: RMSE = 4.647258985111384 / MAE = 2.941192436145549\n",
      "LR: RMSE = 4.743442073191045 / MAE = 3.1879768818794476\n",
      "KNN: RMSE = 4.719447442065208 / MAE = 2.8900990099009887\n",
      "SVM: RMSE = 4.796539060669239 / MAE = 2.846384668118211\n"
     ]
    }
   ],
   "source": [
    "class_names = ['GD','LR','KNN','SVM']\n",
    "class_ = [gd_rmse, lr_rmse, knn_rmse, svm_rmse]\n",
    "class_1 = [gd_mae, lr_mae, knn_mae, svm_mae]\n",
    "for i in range(0,len(class_names)):\n",
    "    print(class_names[i] + ': RMSE = ' + str(class_[i]) + ' / MAE = ' + str(class_1[i]))"
   ]
  },
  {
   "cell_type": "markdown",
   "metadata": {},
   "source": [
    "# Escolher a melhor técnica e criar um modelo final usando todo o dataset para treinar o modelo. (knn)"
   ]
  },
  {
   "cell_type": "code",
   "execution_count": 10,
   "metadata": {},
   "outputs": [
    {
     "name": "stdout",
     "output_type": "stream",
     "text": [
      "RMSE Final = 3.3672833022994464\n"
     ]
    }
   ],
   "source": [
    "final_scale = preprocessing.StandardScaler().fit(X, y)\n",
    "X_std_final = final_scale.transform(X)\n",
    "\n",
    "model_regressao_final = KNeighborsRegressor()\n",
    "model_regressao_final.fit(X_std_final, y)\n",
    "y_pred_final = model_regressao_final.predict(X_std_final)\n",
    "rmse_final = sqrt(metrics.mean_squared_error(y, y_pred_final))\n",
    "print(\"RMSE Final = {}\".format(rmse_final))"
   ]
  },
  {
   "cell_type": "markdown",
   "metadata": {},
   "source": [
    "# Classificação \n",
    "\n",
    "    Dataset: breast cancer wisconsin dataset\n",
    "    Aplicar Normalization nas features.\n",
    "    Comparar os resultados dos seguintes algoritmos: Logistic Regression, kNN, Naive Bayes, SVM\n",
    "    Mostrar a matriz de confusão\n",
    "    Usar as seguintes métricas: Accuracy, Precision, Recall, F1-Measure, AOC\n",
    "    Plotar curva ROC dos diferentes algoritmos.\n",
    "    Escolher a melhor técnica e criar um modelo final usando todo o dataset para treinar o modelo."
   ]
  },
  {
   "cell_type": "code",
   "execution_count": 11,
   "metadata": {},
   "outputs": [],
   "source": [
    "Xc, yc = load_breast_cancer(return_X_y=True)"
   ]
  },
  {
   "cell_type": "code",
   "execution_count": 12,
   "metadata": {},
   "outputs": [
    {
     "name": "stdout",
     "output_type": "stream",
     "text": [
      "KFold(n_splits=5, random_state=42, shuffle=True)\n"
     ]
    }
   ],
   "source": [
    "treinoc = KFold(n_splits=5, shuffle=True, random_state=42)\n",
    "treinoc.get_n_splits(Xc, yc)\n",
    "\n",
    "print(treinoc)  \n",
    "\n",
    "for train_index, test_index in treinoc.split(Xc,yc):\n",
    "    #print(\"TRAIN:\", train_index, \"TEST:\", test_index)\n",
    "    X_trainc, X_testc = Xc[train_index], Xc[test_index]\n",
    "    y_trainc, y_testc = yc[train_index], yc[test_index]"
   ]
  },
  {
   "cell_type": "code",
   "execution_count": 13,
   "metadata": {},
   "outputs": [],
   "source": [
    "nm_scale = preprocessing.MinMaxScaler().fit(X_trainc, y_trainc)\n",
    "X_train_nm = nm_scale.transform(X_trainc)\n",
    "X_test_nm = nm_scale.transform(X_testc)"
   ]
  },
  {
   "cell_type": "markdown",
   "metadata": {},
   "source": [
    "## Logistic Regression"
   ]
  },
  {
   "cell_type": "code",
   "execution_count": 14,
   "metadata": {},
   "outputs": [],
   "source": [
    "model_lrr = linear_model.LogisticRegression()\n",
    "\n",
    "model_lrr.fit(X_train_nm, y_trainc)\n",
    "y_pred_lrr = model_lrr.predict(X_test_nm)"
   ]
  },
  {
   "cell_type": "code",
   "execution_count": 15,
   "metadata": {},
   "outputs": [
    {
     "data": {
      "text/plain": [
       "array([[39,  7],\n",
       "       [ 0, 67]])"
      ]
     },
     "execution_count": 15,
     "metadata": {},
     "output_type": "execute_result"
    }
   ],
   "source": [
    "acc_lrr = metrics.accuracy_score(y_testc, y_pred_lrr)\n",
    "pre_lrr = metrics.precision_score(y_testc, y_pred_lrr)\n",
    "rec_lrr = metrics.recall_score(y_testc, y_pred_lrr)\n",
    "f1_lrr = metrics.f1_score(y_testc, y_pred_lrr)\n",
    "metrics.confusion_matrix(y_testc, y_pred_lrr)"
   ]
  },
  {
   "cell_type": "markdown",
   "metadata": {},
   "source": [
    "## KNN"
   ]
  },
  {
   "cell_type": "code",
   "execution_count": 16,
   "metadata": {},
   "outputs": [],
   "source": [
    "model_knnc = KNeighborsClassifier()\n",
    "\n",
    "model_knnc.fit(X_train_nm, y_trainc)\n",
    "y_pred_knnc = model_knnc.predict(X_test_nm)"
   ]
  },
  {
   "cell_type": "code",
   "execution_count": 17,
   "metadata": {},
   "outputs": [
    {
     "data": {
      "text/plain": [
       "array([[40,  6],\n",
       "       [ 1, 66]])"
      ]
     },
     "execution_count": 17,
     "metadata": {},
     "output_type": "execute_result"
    }
   ],
   "source": [
    "acc_knnc = metrics.accuracy_score(y_testc, y_pred_knnc)\n",
    "pre_knnc = metrics.precision_score(y_testc, y_pred_knnc)\n",
    "rec_knnc = metrics.recall_score(y_testc, y_pred_knnc)\n",
    "f1_knnc = metrics.f1_score(y_testc, y_pred_knnc)\n",
    "metrics.confusion_matrix(y_testc, y_pred_knnc)"
   ]
  },
  {
   "cell_type": "markdown",
   "metadata": {},
   "source": [
    "## Naive Bayes"
   ]
  },
  {
   "cell_type": "code",
   "execution_count": 18,
   "metadata": {},
   "outputs": [],
   "source": [
    "model_nbc = GaussianNB()\n",
    "\n",
    "model_nbc.fit(X_train_nm, y_trainc)\n",
    "y_pred_nbc = model_nbc.predict(X_test_nm)"
   ]
  },
  {
   "cell_type": "code",
   "execution_count": 19,
   "metadata": {},
   "outputs": [
    {
     "data": {
      "text/plain": [
       "array([[40,  6],\n",
       "       [ 2, 65]])"
      ]
     },
     "execution_count": 19,
     "metadata": {},
     "output_type": "execute_result"
    }
   ],
   "source": [
    "acc_nbc = metrics.accuracy_score(y_testc, y_pred_nbc)\n",
    "pre_nbc = metrics.precision_score(y_testc, y_pred_nbc)\n",
    "rec_nbc = metrics.recall_score(y_testc, y_pred_nbc)\n",
    "f1_nbc = metrics.f1_score(y_testc, y_pred_nbc)\n",
    "metrics.confusion_matrix(y_testc, y_pred_nbc)"
   ]
  },
  {
   "cell_type": "markdown",
   "metadata": {},
   "source": [
    "## SVC"
   ]
  },
  {
   "cell_type": "code",
   "execution_count": 20,
   "metadata": {},
   "outputs": [],
   "source": [
    "model_svc = svm.SVC()\n",
    "\n",
    "model_svc.fit(X_train_nm, y_trainc)\n",
    "y_pred_svc = model_svc.predict(X_test_nm)"
   ]
  },
  {
   "cell_type": "code",
   "execution_count": 21,
   "metadata": {},
   "outputs": [
    {
     "data": {
      "text/plain": [
       "array([[39,  7],\n",
       "       [ 0, 67]])"
      ]
     },
     "execution_count": 21,
     "metadata": {},
     "output_type": "execute_result"
    }
   ],
   "source": [
    "acc_svc = metrics.accuracy_score(y_testc, y_pred_svc)\n",
    "pre_svc = metrics.precision_score(y_testc, y_pred_svc)\n",
    "rec_svc = metrics.recall_score(y_testc, y_pred_svc)\n",
    "f1_svc = metrics.f1_score(y_testc, y_pred_svc)\n",
    "metrics.confusion_matrix(y_testc, y_pred_svc)"
   ]
  },
  {
   "cell_type": "markdown",
   "metadata": {},
   "source": [
    "## RESULTADOS"
   ]
  },
  {
   "cell_type": "code",
   "execution_count": 22,
   "metadata": {},
   "outputs": [
    {
     "name": "stdout",
     "output_type": "stream",
     "text": [
      "LR: Acc = 0.9380530973451328 / Prec = 0.9054054054054054 / Rec = 1.0 / F1 = 0.950354609929078\n",
      "KNN: Acc = 0.9380530973451328 / Prec = 0.9166666666666666 / Rec = 0.9850746268656716 / F1 = 0.949640287769784\n",
      "GNB: Acc = 0.9292035398230089 / Prec = 0.9154929577464789 / Rec = 0.9701492537313433 / F1 = 0.9420289855072463\n",
      "SVC: Acc = 0.9380530973451328 / Prec = 0.9054054054054054 / Rec = 1.0 / F1 = 0.950354609929078\n"
     ]
    }
   ],
   "source": [
    "class_names2 = ['LR','KNN', 'GNB', 'SVC']\n",
    "class2_ = [acc_lrr, acc_knnc, acc_nbc, acc_svc]\n",
    "class2_1 = [pre_lrr, pre_knnc, pre_nbc, pre_svc]\n",
    "class2_2 = [rec_lrr, rec_knnc, rec_nbc, rec_svc]\n",
    "class2_3 = [f1_lrr, f1_knnc, f1_nbc, f1_svc]\n",
    "for i in range(0,len(class_names)):\n",
    "    print(class_names2[i] + ': Acc = ' + str(class2_[i]) + ' / Prec = ' + str(class2_1[i]) + ' / Rec = ' + str(class2_2[i]) + ' / F1 = ' + str(class2_3[i]))"
   ]
  },
  {
   "cell_type": "code",
   "execution_count": 23,
   "metadata": {},
   "outputs": [
    {
     "data": {
      "text/plain": [
       "<matplotlib.legend.Legend at 0x7fca598bbac8>"
      ]
     },
     "execution_count": 23,
     "metadata": {},
     "output_type": "execute_result"
    },
    {
     "data": {
      "image/png": "[encoded data removed]",
      "text/plain": [
       "<matplotlib.figure.Figure at 0x7fca6181df60>"
      ]
     },
     "metadata": {},
     "output_type": "display_data"
    }
   ],
   "source": [
    "fpr = []\n",
    "tpr = []\n",
    "roc_auc = []\n",
    "\n",
    "fpr1, tpr1, _ = metrics.roc_curve(y_testc, y_pred_lrr)\n",
    "fpr.append(fpr1)\n",
    "tpr.append(tpr1)\n",
    "roc_auc.append(metrics.auc(fpr1, tpr1))\n",
    "\n",
    "fpr1, tpr1, _ = metrics.roc_curve(y_testc, y_pred_knnc)\n",
    "fpr.append(fpr1)\n",
    "tpr.append(tpr1)\n",
    "roc_auc.append(metrics.auc(fpr1, tpr1))\n",
    "\n",
    "fpr1, tpr1, _ = metrics.roc_curve(y_testc, y_pred_nbc)\n",
    "fpr.append(fpr1)\n",
    "tpr.append(tpr1)\n",
    "roc_auc.append(metrics.auc(fpr1, tpr1))\n",
    "\n",
    "fpr1, tpr1, _ = metrics.roc_curve(y_testc, y_pred_svc)\n",
    "fpr.append(fpr1)\n",
    "tpr.append(tpr1)\n",
    "roc_auc.append(metrics.auc(fpr1, tpr1))\n",
    "\n",
    "#Plotar curva\n",
    "plt.figure()\n",
    "lw = 2\n",
    "\n",
    "colors = cycle(['red','darkorange','green','yellow'])\n",
    "for i, color in zip(range(len(class_names2)), colors):\n",
    "    plt.plot(fpr[i], tpr[i], color = color, lw = lw, label = 'ROC curve of' + class_names2[i] + ' algorithm (area = {1:0.2f})'.format(i, roc_auc[i]))\n",
    "\n",
    "plt.plot([0,1], [0,1], color = 'navy', lw = lw, linestyle = '--')\n",
    "plt.xlim([0.0,1.0])\n",
    "plt.ylim([0.0,1.0])\n",
    "plt.xlabel('False Positive Rate')\n",
    "plt.ylabel('True Positive Rate')\n",
    "plt.title('Curva ROC')\n",
    "plt.legend(loc = \"lower right\")"
   ]
  },
  {
   "cell_type": "markdown",
   "metadata": {},
   "source": [
    "## Escolher a melhor técnica e criar um modelo final usando todo o dataset para treinar o modelo. (SVC)"
   ]
  },
  {
   "cell_type": "code",
   "execution_count": 24,
   "metadata": {},
   "outputs": [
    {
     "name": "stdout",
     "output_type": "stream",
     "text": [
      "Accuracy = 1.0\n"
     ]
    }
   ],
   "source": [
    "model_classificacao_final = svm.SVC()\n",
    "model_classificacao_final.fit(Xc, yc)\n",
    "y_classificacao_final = model_classificacao_final.predict(Xc)\n",
    "print('Accuracy = {}'.format(metrics.accuracy_score(yc, y_classificacao_final)))"
   ]
  },
  {
   "cell_type": "code",
   "execution_count": null,
   "metadata": {},
   "outputs": [],
   "source": []
  }
 ],
 "metadata": {
  "kernelspec": {
   "display_name": "Python 3",
   "language": "python",
   "name": "python3"
  },
  "language_info": {
   "codemirror_mode": {
    "name": "ipython",
    "version": 3
   },
   "file_extension": ".py",
   "mimetype": "text/x-python",
   "name": "python",
   "nbconvert_exporter": "python",
   "pygments_lexer": "ipython3",
   "version": "3.6.4"
  }
 },
 "nbformat": 4,
 "nbformat_minor": 2
}
