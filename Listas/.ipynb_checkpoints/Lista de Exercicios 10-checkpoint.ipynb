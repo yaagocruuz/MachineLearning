{
 "cells": [
  {
   "cell_type": "code",
   "execution_count": 2,
   "metadata": {},
   "outputs": [],
   "source": [
    "import numpy as np\n",
    "import pandas as pd\n",
    "from sklearn.model_selection import StratifiedShuffleSplit\n",
    "from sklearn.linear_model import SGDClassifier\n",
    "from sklearn import metrics as mt"
   ]
  },
  {
   "cell_type": "code",
   "execution_count": 3,
   "metadata": {},
   "outputs": [],
   "source": [
    "data = pd.read_csv('datasets/binary.csv', header=0)"
   ]
  },
  {
   "cell_type": "code",
   "execution_count": 4,
   "metadata": {},
   "outputs": [
    {
     "data": {
      "text/html": [
       "<div>\n",
       "<style scoped>\n",
       "    .dataframe tbody tr th:only-of-type {\n",
       "        vertical-align: middle;\n",
       "    }\n",
       "\n",
       "    .dataframe tbody tr th {\n",
       "        vertical-align: top;\n",
       "    }\n",
       "\n",
       "    .dataframe thead th {\n",
       "        text-align: right;\n",
       "    }\n",
       "</style>\n",
       "<table border=\"1\" class=\"dataframe\">\n",
       "  <thead>\n",
       "    <tr style=\"text-align: right;\">\n",
       "      <th></th>\n",
       "      <th>admit</th>\n",
       "      <th>gre</th>\n",
       "      <th>gpa</th>\n",
       "      <th>rank</th>\n",
       "    </tr>\n",
       "  </thead>\n",
       "  <tbody>\n",
       "    <tr>\n",
       "      <th>0</th>\n",
       "      <td>0</td>\n",
       "      <td>380</td>\n",
       "      <td>3.61</td>\n",
       "      <td>3</td>\n",
       "    </tr>\n",
       "    <tr>\n",
       "      <th>1</th>\n",
       "      <td>1</td>\n",
       "      <td>660</td>\n",
       "      <td>3.67</td>\n",
       "      <td>3</td>\n",
       "    </tr>\n",
       "    <tr>\n",
       "      <th>2</th>\n",
       "      <td>1</td>\n",
       "      <td>800</td>\n",
       "      <td>4.00</td>\n",
       "      <td>1</td>\n",
       "    </tr>\n",
       "    <tr>\n",
       "      <th>3</th>\n",
       "      <td>1</td>\n",
       "      <td>640</td>\n",
       "      <td>3.19</td>\n",
       "      <td>4</td>\n",
       "    </tr>\n",
       "    <tr>\n",
       "      <th>4</th>\n",
       "      <td>0</td>\n",
       "      <td>520</td>\n",
       "      <td>2.93</td>\n",
       "      <td>4</td>\n",
       "    </tr>\n",
       "  </tbody>\n",
       "</table>\n",
       "</div>"
      ],
      "text/plain": [
       "   admit  gre   gpa  rank\n",
       "0      0  380  3.61     3\n",
       "1      1  660  3.67     3\n",
       "2      1  800  4.00     1\n",
       "3      1  640  3.19     4\n",
       "4      0  520  2.93     4"
      ]
     },
     "execution_count": 4,
     "metadata": {},
     "output_type": "execute_result"
    }
   ],
   "source": [
    "data.head()"
   ]
  },
  {
   "cell_type": "code",
   "execution_count": 5,
   "metadata": {},
   "outputs": [],
   "source": [
    "y = data.iloc[:, 0].values\n",
    "\n",
    "X = data.iloc[:, 1:4].values"
   ]
  },
  {
   "cell_type": "markdown",
   "metadata": {},
   "source": [
    "# Use o dataset do link a seguir para aplicar sobre ele o gradiente descendente estocástico.\n",
    "        O label (target) do dataset é o atributo admit.\n",
    "        Use 70% do dados para treino e 30% para teste sem validação cruzada, mas com estratificação. \n",
    "    Obtenha e compare os coeficientes (coef_ e intercept_) usando modelos com diferentes penalidades / regularizações:\n",
    "        Sem Regularização\n",
    "        Com Reguralização L1\n",
    "        Com Regularização L2\n",
    "        Com Regularização Elastic Net\n",
    "    Para os experimentos com Regularização, crie também modelos variando a força da regularização (alpha). Use alpha com os seguintes valores: 0.0001, 0.01, 1, 10, 100.\n",
    "    Compare a acurácia dos modelos criados."
   ]
  },
  {
   "cell_type": "code",
   "execution_count": 6,
   "metadata": {},
   "outputs": [
    {
     "data": {
      "text/plain": [
       "10"
      ]
     },
     "execution_count": 6,
     "metadata": {},
     "output_type": "execute_result"
    }
   ],
   "source": [
    "clf = StratifiedShuffleSplit(test_size=0.3, train_size=0.7)\n",
    "clf.get_n_splits()"
   ]
  },
  {
   "cell_type": "code",
   "execution_count": 7,
   "metadata": {},
   "outputs": [
    {
     "name": "stderr",
     "output_type": "stream",
     "text": [
      "/home/yaagocruuz/anaconda3/lib/python3.6/site-packages/sklearn/linear_model/stochastic_gradient.py:128: FutureWarning: max_iter and tol parameters have been added in <class 'sklearn.linear_model.stochastic_gradient.SGDClassifier'> in 0.19. If both are left unset, they default to max_iter=5 and tol=None. If tol is not None, max_iter defaults to max_iter=1000. From 0.21, default max_iter will be 1000, and default tol will be 1e-3.\n",
      "  \"and default tol will be 1e-3.\" % type(self), FutureWarning)\n"
     ]
    }
   ],
   "source": [
    "vt_acc_sgd0_alpha_0001 = []\n",
    "vt_acc_sgd0_alpha_01 = []\n",
    "vt_acc_sgd0_alpha_1 = []\n",
    "vt_acc_sgd0_alpha_10 = []\n",
    "vt_acc_sgd0_alpha_100 = []\n",
    "\n",
    "vt_acc_sgd1_alpha_0001 = []\n",
    "vt_acc_sgd1_alpha_01 = []\n",
    "vt_acc_sgd1_alpha_1 = []\n",
    "vt_acc_sgd1_alpha_10 = []\n",
    "vt_acc_sgd1_alpha_100 = []\n",
    "\n",
    "vt_acc_sgd2_alpha_0001 = []\n",
    "vt_acc_sgd2_alpha_01 = []\n",
    "vt_acc_sgd2_alpha_1 = []\n",
    "vt_acc_sgd2_alpha_10 = []\n",
    "vt_acc_sgd2_alpha_100 = []\n",
    "\n",
    "vt_acc_sgd3_alpha_0001 = []\n",
    "vt_acc_sgd3_alpha_01 = []\n",
    "vt_acc_sgd3_alpha_1 = []\n",
    "vt_acc_sgd3_alpha_10 = []\n",
    "vt_acc_sgd3_alpha_100 = []\n",
    "\n",
    "for train_index, test_index in clf.split(X, y):\n",
    "    X_train, X_test = X[train_index], X[test_index]\n",
    "    y_train, y_test = y[train_index], y[test_index]\n",
    "    \n",
    "    #Sem\n",
    "    model_sgd0_alpha_0001 = SGDClassifier(penalty='none').fit(X_train, y_train)\n",
    "    y_pred_model_sgd0_alpha_0001 = model_sgd0_alpha_0001.predict(X_test)\n",
    "    vt_acc_sgd0_alpha_0001.append(mt.accuracy_score(y_test, y_pred_model_sgd0_alpha_0001))\n",
    "    \n",
    "    model_sgd0_alpha_01 = SGDClassifier(penalty='none', alpha=0.01).fit(X_train, y_train)\n",
    "    y_pred_model_sgd0_alpha_01 = model_sgd0_alpha_01.predict(X_test)\n",
    "    vt_acc_sgd0_alpha_01.append(mt.accuracy_score(y_test, y_pred_model_sgd0_alpha_01))\n",
    "\n",
    "    model_sgd0_alpha_1 = SGDClassifier(penalty='none', alpha=1).fit(X_train, y_train)\n",
    "    y_pred_model_sgd0_alpha_1 = model_sgd0_alpha_1.predict(X_test)\n",
    "    vt_acc_sgd0_alpha_1.append(mt.accuracy_score(y_test, y_pred_model_sgd0_alpha_1))\n",
    "    \n",
    "    model_sgd0_alpha_10 = SGDClassifier(penalty='none', alpha=10).fit(X_train, y_train)\n",
    "    y_pred_model_sgd0_alpha_10 = model_sgd0_alpha_10.predict(X_test)\n",
    "    vt_acc_sgd0_alpha_10.append(mt.accuracy_score(y_test, y_pred_model_sgd0_alpha_10))\n",
    "    \n",
    "    model_sgd0_alpha_100 = SGDClassifier(penalty='none', alpha=100).fit(X_train, y_train)\n",
    "    y_pred_model_sgd0_alpha_100 = model_sgd0_alpha_100.predict(X_test)\n",
    "    vt_acc_sgd0_alpha_100.append(mt.accuracy_score(y_test, y_pred_model_sgd0_alpha_100))\n",
    "    \n",
    "    #L1\n",
    "    model_sgd1_alpha_0001 = SGDClassifier(penalty='l1').fit(X_train, y_train)\n",
    "    y_pred_model_sgd1_alpha_0001 = model_sgd1_alpha_0001.predict(X_test)\n",
    "    vt_acc_sgd1_alpha_0001.append(mt.accuracy_score(y_test, y_pred_model_sgd1_alpha_0001))\n",
    "    \n",
    "    model_sgd1_alpha_01 = SGDClassifier(penalty='l1', alpha=0.01).fit(X_train, y_train)\n",
    "    y_pred_model_sgd1_alpha_01 = model_sgd1_alpha_01.predict(X_test)\n",
    "    vt_acc_sgd1_alpha_01.append(mt.accuracy_score(y_test, y_pred_model_sgd1_alpha_01))\n",
    "\n",
    "    model_sgd1_alpha_1 = SGDClassifier(penalty='l1', alpha=1).fit(X_train, y_train)\n",
    "    y_pred_model_sgd1_alpha_1 = model_sgd1_alpha_1.predict(X_test)\n",
    "    vt_acc_sgd1_alpha_1.append(mt.accuracy_score(y_test, y_pred_model_sgd1_alpha_1))\n",
    "    \n",
    "    model_sgd1_alpha_10 = SGDClassifier(penalty='l1', alpha=10).fit(X_train, y_train)\n",
    "    y_pred_model_sgd1_alpha_10 = model_sgd1_alpha_10.predict(X_test)\n",
    "    vt_acc_sgd1_alpha_10.append(mt.accuracy_score(y_test, y_pred_model_sgd1_alpha_10))\n",
    "    \n",
    "    model_sgd1_alpha_100 = SGDClassifier(penalty='l1', alpha=100).fit(X_train, y_train)\n",
    "    y_pred_model_sgd1_alpha_100 = model_sgd1_alpha_100.predict(X_test)\n",
    "    vt_acc_sgd1_alpha_100.append(mt.accuracy_score(y_test, y_pred_model_sgd1_alpha_100))\n",
    "    \n",
    "    #L2\n",
    "    model_sgd2_alpha_0001 = SGDClassifier(penalty='l2').fit(X_train, y_train)\n",
    "    y_pred_model_sgd2_alpha_0001 = model_sgd2_alpha_0001.predict(X_test)\n",
    "    vt_acc_sgd2_alpha_0001.append(mt.accuracy_score(y_test, y_pred_model_sgd2_alpha_0001))\n",
    "    \n",
    "    model_sgd2_alpha_01 = SGDClassifier(penalty='l2', alpha=0.01).fit(X_train, y_train)\n",
    "    y_pred_model_sgd2_alpha_01 = model_sgd2_alpha_01.predict(X_test)\n",
    "    vt_acc_sgd2_alpha_01.append(mt.accuracy_score(y_test, y_pred_model_sgd2_alpha_01))\n",
    "    \n",
    "    model_sgd2_alpha_1 = SGDClassifier(penalty='l2', alpha=1).fit(X_train, y_train)\n",
    "    y_pred_model_sgd2_alpha_1 = model_sgd2_alpha_1.predict(X_test)\n",
    "    vt_acc_sgd2_alpha_1.append(mt.accuracy_score(y_test, y_pred_model_sgd2_alpha_1))\n",
    "    \n",
    "    model_sgd2_alpha_10 = SGDClassifier(penalty='l2', alpha=10).fit(X_train, y_train)\n",
    "    y_pred_model_sgd2_alpha_10 = model_sgd2_alpha_10.predict(X_test)\n",
    "    vt_acc_sgd2_alpha_10.append(mt.accuracy_score(y_test, y_pred_model_sgd2_alpha_10))\n",
    "    \n",
    "    model_sgd2_alpha_100 = SGDClassifier(penalty='l2', alpha=100).fit(X_train, y_train)\n",
    "    y_pred_model_sgd2_alpha_100 = model_sgd2_alpha_100.predict(X_test)\n",
    "    vt_acc_sgd2_alpha_100.append(mt.accuracy_score(y_test, y_pred_model_sgd2_alpha_100))\n",
    "    \n",
    "    \n",
    "    #Elastic Net\n",
    "    model_sgd3_alpha_0001 = SGDClassifier(penalty='elasticnet').fit(X_train, y_train)\n",
    "    y_pred_model_sgd3_alpha_0001 = model_sgd3_alpha_0001.predict(X_test)\n",
    "    vt_acc_sgd3_alpha_0001.append(mt.accuracy_score(y_test, y_pred_model_sgd3_alpha_0001))\n",
    "    \n",
    "    model_sgd3_alpha_01 = SGDClassifier(penalty='elasticnet', alpha=0.01).fit(X_train, y_train)\n",
    "    y_pred_model_sgd3_alpha_01 = model_sgd3_alpha_01.predict(X_test)\n",
    "    vt_acc_sgd3_alpha_01.append(mt.accuracy_score(y_test, y_pred_model_sgd3_alpha_01))\n",
    "\n",
    "    model_sgd3_alpha_1 = SGDClassifier(penalty='elasticnet', alpha=1).fit(X_train, y_train)\n",
    "    y_pred_model_sgd3_alpha_1 = model_sgd3_alpha_1.predict(X_test)\n",
    "    vt_acc_sgd3_alpha_1.append(mt.accuracy_score(y_test, y_pred_model_sgd3_alpha_1))\n",
    "    \n",
    "    model_sgd3_alpha_10 = SGDClassifier(penalty='elasticnet', alpha=10).fit(X_train, y_train)\n",
    "    y_pred_model_sgd3_alpha_10 = model_sgd3_alpha_10.predict(X_test)\n",
    "    vt_acc_sgd3_alpha_10.append(mt.accuracy_score(y_test, y_pred_model_sgd3_alpha_10))\n",
    "    \n",
    "    model_sgd3_alpha_100 = SGDClassifier(penalty='elasticnet', alpha=100).fit(X_train, y_train)\n",
    "    y_pred_model_sgd3_alpha_100 = model_sgd3_alpha_100.predict(X_test)\n",
    "    vt_acc_sgd3_alpha_100.append(mt.accuracy_score(y_test, y_pred_model_sgd3_alpha_100))"
   ]
  },
  {
   "cell_type": "code",
   "execution_count": 8,
   "metadata": {},
   "outputs": [
    {
     "name": "stdout",
     "output_type": "stream",
     "text": [
      "Accuracy SGDC SEM 0.0001 = 0.5\n",
      "Accuracy SGDC SEM 0.01   = 0.6125\n",
      "Accuracy SGDC SEM 1      = 0.61\n",
      "Accuracy SGDC SEM 10     = 0.5\n",
      "Accuracy SGDC SEM 100    = 0.5\n",
      "--------------------------------------------------\n",
      "Accuracy SGDC L1 0.0001 = 0.5\n",
      "Accuracy SGDC L1 0.01   = 0.6125\n",
      "Accuracy SGDC L1 1      = 0.61\n",
      "Accuracy SGDC L1 10     = 0.5\n",
      "Accuracy SGDC L1 100    = 0.5\n",
      "--------------------------------------------------\n",
      "Accuracy SGDC L2 0.0001 = 0.61\n",
      "Accuracy SGDC L2 0.01   = 0.5733333333333334\n",
      "Accuracy SGDC L2 1      = 0.5733333333333334\n",
      "Accuracy SGDC L2 10     = 0.6100000000000001\n",
      "Accuracy SGDC L2 100    = 0.6466666666666667\n",
      "--------------------------------------------------\n",
      "Accuracy SGDC Elastic Net 0.0001 = 0.5366666666666667\n",
      "Accuracy SGDC Elastic Net 0.01   = 0.5366666666666667\n",
      "Accuracy SGDC Elastic Net 1      = 0.6833333333333333\n",
      "Accuracy SGDC Elastic Net 10     = 0.6466666666666667\n",
      "Accuracy SGDC Elastic Net 100    = 0.5366666666666667\n"
     ]
    }
   ],
   "source": [
    "print('Accuracy SGDC SEM 0.0001 = {}'.format(np.mean(vt_acc_sgd1_alpha_0001)))\n",
    "print('Accuracy SGDC SEM 0.01   = {}'.format(np.mean(vt_acc_sgd1_alpha_01)))\n",
    "print('Accuracy SGDC SEM 1      = {}'.format(np.mean(vt_acc_sgd1_alpha_1)))\n",
    "print('Accuracy SGDC SEM 10     = {}'.format(np.mean(vt_acc_sgd1_alpha_10)))\n",
    "print('Accuracy SGDC SEM 100    = {}'.format(np.mean(vt_acc_sgd1_alpha_100)))\n",
    "\n",
    "print('--------------------------------------------------')\n",
    "\n",
    "print('Accuracy SGDC L1 0.0001 = {}'.format(np.mean(vt_acc_sgd1_alpha_0001)))\n",
    "print('Accuracy SGDC L1 0.01   = {}'.format(np.mean(vt_acc_sgd1_alpha_01)))\n",
    "print('Accuracy SGDC L1 1      = {}'.format(np.mean(vt_acc_sgd1_alpha_1)))\n",
    "print('Accuracy SGDC L1 10     = {}'.format(np.mean(vt_acc_sgd1_alpha_10)))\n",
    "print('Accuracy SGDC L1 100    = {}'.format(np.mean(vt_acc_sgd1_alpha_100)))\n",
    "\n",
    "print('--------------------------------------------------')\n",
    "\n",
    "print('Accuracy SGDC L2 0.0001 = {}'.format(np.mean(vt_acc_sgd2_alpha_0001)))\n",
    "print('Accuracy SGDC L2 0.01   = {}'.format(np.mean(vt_acc_sgd2_alpha_01)))\n",
    "print('Accuracy SGDC L2 1      = {}'.format(np.mean(vt_acc_sgd2_alpha_1)))\n",
    "print('Accuracy SGDC L2 10     = {}'.format(np.mean(vt_acc_sgd2_alpha_10)))\n",
    "print('Accuracy SGDC L2 100    = {}'.format(np.mean(vt_acc_sgd2_alpha_100)))\n",
    "\n",
    "print('--------------------------------------------------')\n",
    "\n",
    "print('Accuracy SGDC Elastic Net 0.0001 = {}'.format(np.mean(vt_acc_sgd3_alpha_0001)))\n",
    "print('Accuracy SGDC Elastic Net 0.01   = {}'.format(np.mean(vt_acc_sgd3_alpha_01)))\n",
    "print('Accuracy SGDC Elastic Net 1      = {}'.format(np.mean(vt_acc_sgd3_alpha_1)))\n",
    "print('Accuracy SGDC Elastic Net 10     = {}'.format(np.mean(vt_acc_sgd3_alpha_10)))\n",
    "print('Accuracy SGDC Elastic Net 100    = {}'.format(np.mean(vt_acc_sgd3_alpha_100)))"
   ]
  },
  {
   "cell_type": "code",
   "execution_count": null,
   "metadata": {},
   "outputs": [],
   "source": []
  }
 ],
 "metadata": {
  "kernelspec": {
   "display_name": "Python 3",
   "language": "python",
   "name": "python3"
  },
  "language_info": {
   "codemirror_mode": {
    "name": "ipython",
    "version": 3
   },
   "file_extension": ".py",
   "mimetype": "text/x-python",
   "name": "python",
   "nbconvert_exporter": "python",
   "pygments_lexer": "ipython3",
   "version": "3.6.4"
  }
 },
 "nbformat": 4,
 "nbformat_minor": 2
}
