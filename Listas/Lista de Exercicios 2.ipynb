{
 "cells": [
  {
   "cell_type": "markdown",
   "metadata": {},
   "source": [
    "# 1. Gere manualmente (\"no braço\") um dataset (array) com 10 elementos inteiros, tendo como média o valor 3 e como desvio padrão um valor próximo de 2. Desenhe o histograma para os dados gerados."
   ]
  },
  {
   "cell_type": "code",
   "execution_count": 15,
   "metadata": {},
   "outputs": [],
   "source": [
    "%matplotlib inline\n",
    "import numpy as np\n",
    "import math, os, sys\n",
    "from sklearn import linear_model\n",
    "from matplotlib import pyplot as plt\n",
    "from mylibs import linear"
   ]
  },
  {
   "cell_type": "code",
   "execution_count": 16,
   "metadata": {},
   "outputs": [
    {
     "name": "stdout",
     "output_type": "stream",
     "text": [
      "2.0976176963403033\n"
     ]
    }
   ],
   "source": [
    "x1 = np.array([1,1,1,2,2,3,5,2,6,7])\n",
    "\n",
    "def somar(x1):\n",
    "    soma = 0\n",
    "    for v in x1:\n",
    "        soma += v\n",
    "    return soma\n",
    "\n",
    "def media(x1):\n",
    "    soma = somar(x1)\n",
    "    qtd_elementos = len(x1)\n",
    "    media = soma / float(qtd_elementos)\n",
    "    return media\n",
    " \n",
    "def variancia(x1):\n",
    "    _media = media(x1)\n",
    "    soma = 0\n",
    "    _variancia = 0\n",
    " \n",
    "    for valor in x1:\n",
    "        soma += math.pow( (valor - _media), 2)\n",
    "        _variancia = soma / float( len(x1) )\n",
    "    return _variancia\n",
    "\n",
    "print(math.sqrt(variancia(x1)))"
   ]
  },
  {
   "cell_type": "code",
   "execution_count": 17,
   "metadata": {},
   "outputs": [
    {
     "data": {
      "text/plain": [
       "(1, 7, 3.0, 2.0976176963403033)"
      ]
     },
     "execution_count": 17,
     "metadata": {},
     "output_type": "execute_result"
    }
   ],
   "source": [
    "np.min(x1), np.max(x1), np.mean(x1), np.std(x1)"
   ]
  },
  {
   "cell_type": "code",
   "execution_count": 18,
   "metadata": {},
   "outputs": [
    {
     "data": {
      "image/png": "[encoded data removed]",
      "text/plain": [
       "<matplotlib.figure.Figure at 0x7f05efe915f8>"
      ]
     },
     "metadata": {},
     "output_type": "display_data"
    }
   ],
   "source": [
    "plt.hist(x1);"
   ]
  },
  {
   "cell_type": "markdown",
   "metadata": {},
   "source": [
    "# 2. Gere dados randômicos e desenhe o histograma para uma distribuição normal contendo 5000 pontos, que tem como média o valor 60 e como desvio padrão o valor 10."
   ]
  },
  {
   "cell_type": "code",
   "execution_count": 19,
   "metadata": {},
   "outputs": [
    {
     "data": {
      "image/png": "[encoded data removed]",
      "text/plain": [
       "<matplotlib.figure.Figure at 0x7f05efe61ba8>"
      ]
     },
     "metadata": {},
     "output_type": "display_data"
    }
   ],
   "source": [
    "r1 = np.random.normal(loc=60, scale=10, size=5000)\n",
    "plt.hist(r1, bins=100);"
   ]
  },
  {
   "cell_type": "markdown",
   "metadata": {},
   "source": [
    "# 3. Gere dados randômicos e desenhe o histograma para 2 distribuições escolhidas por você (exceto a dist. normal/gaussiana) a partir da figura a seguir:"
   ]
  },
  {
   "cell_type": "markdown",
   "metadata": {},
   "source": [
    "## 3.1 Geométrica"
   ]
  },
  {
   "cell_type": "code",
   "execution_count": 20,
   "metadata": {},
   "outputs": [
    {
     "data": {
      "image/png": "[encoded data removed]",
      "text/plain": [
       "<matplotlib.figure.Figure at 0x7f05efdd8320>"
      ]
     },
     "metadata": {},
     "output_type": "display_data"
    }
   ],
   "source": [
    "r2 = np.random.geometric(p=0.2, size=10000)\n",
    "plt.hist(r2, bins=50);"
   ]
  },
  {
   "cell_type": "markdown",
   "metadata": {},
   "source": [
    "## 3.2 Log Normal"
   ]
  },
  {
   "cell_type": "code",
   "execution_count": 21,
   "metadata": {},
   "outputs": [
    {
     "data": {
      "image/png": "[encoded data removed]",
      "text/plain": [
       "<matplotlib.figure.Figure at 0x7f05efbd9780>"
      ]
     },
     "metadata": {},
     "output_type": "display_data"
    }
   ],
   "source": [
    "r3 = np.random.lognormal(size=10000)\n",
    "plt.hist(r3, bins=50);"
   ]
  },
  {
   "cell_type": "markdown",
   "metadata": {},
   "source": [
    "# 4. Altere os parâmetros do Gradiente Descendente do notebook 04-Gradiente Descendente.ipynb, para que a diferença entre o valor da métrica de erro do Gradiente Descendente e o valor da métrica de erro da Regressão Linear do Scikit Learn seja menor do que 0.01. Obtenha os coeficientes da regressão linear e o valor do erro. Dica: aumentar muito o número de iterações do Gradiente Descendente."
   ]
  },
  {
   "cell_type": "code",
   "execution_count": 22,
   "metadata": {},
   "outputs": [],
   "source": [
    "# y = b0 + b1 * x\n",
    "# b1 é a inclinação, b0 é y-intercept\n",
    "def compute_error_for_line_given_points(b0, b1, x, y):\n",
    "    totalError = np.sum((y - (b1 * x + b0)) ** 2)\n",
    "    return totalError / float(len(y))\n",
    "\n",
    "def step_gradient(b0_current, b1_current, x, y, learning_rate):\n",
    "    N = float(len(y))\n",
    "    b0_gradient = 2/N * np.sum(-(y - ((b1_current * x) + b0_current)))\n",
    "    b1_gradient = 2/N * np.sum(-x * (y - ((b1_current * x) + b0_current)))\n",
    "    new_b0 = b0_current - (learning_rate * b0_gradient)\n",
    "    new_b1 = b1_current - (learning_rate * b1_gradient)\n",
    "    return new_b0, new_b1\n",
    "\n",
    "def gradient_descent_runner(x, y, b0, b1, learning_rate, num_iterations):\n",
    "    for _ in range(num_iterations):\n",
    "        b0, b1 = step_gradient(b0, b1, x, y, learning_rate)\n",
    "    return b0, b1\n",
    "\n",
    "def run(x, y, initial_b0, initial_b1, learning_rate, num_iterations):\n",
    "    print(\"Inicia com b0 = {}, b1 = {}, error = {}\".format(initial_b0, initial_b1, compute_error_for_line_given_points(initial_b0, initial_b1, x, y)))  \n",
    "    print(\"Executando...\")\n",
    "    b0, b1 = gradient_descent_runner(x, y, initial_b0, initial_b1, learning_rate, num_iterations)\n",
    "    print(\"Após {} iterações, obtemos b0 = {}, b1 = {}, error = {}\".format(num_iterations, b0, b1, compute_error_for_line_given_points(b0, b1, x, y)))"
   ]
  },
  {
   "cell_type": "code",
   "execution_count": 23,
   "metadata": {},
   "outputs": [],
   "source": [
    "points = np.genfromtxt(\"data.csv\", delimiter=\",\")"
   ]
  },
  {
   "cell_type": "code",
   "execution_count": 24,
   "metadata": {},
   "outputs": [
    {
     "name": "stdout",
     "output_type": "stream",
     "text": [
      "Inicia com b0 = 0, b1 = 0, error = 5565.107834483214\n",
      "Executando...\n",
      "Após 380000 iterações, obtemos b0 = 7.538752305491895, b1 = 1.3313202257964445, error = 110.2651057876494\n",
      "CPU times: user 21.9 s, sys: 9.25 ms, total: 21.9 s\n",
      "Wall time: 21.9 s\n"
     ]
    }
   ],
   "source": [
    "%%time\n",
    "x = points[:, 0]\n",
    "y = points[:, 1]\n",
    "learning_rate = 0.0001\n",
    "initial_b0 = 0 # y-intercept inicial\n",
    "initial_b1 = 0 # inclinação inicial\n",
    "num_iterations = 380000\n",
    "erro_grad = run(x, y, initial_b0, initial_b1, learning_rate, num_iterations)"
   ]
  },
  {
   "cell_type": "markdown",
   "metadata": {},
   "source": [
    "## Scikit Learn Results"
   ]
  },
  {
   "cell_type": "code",
   "execution_count": 25,
   "metadata": {},
   "outputs": [
    {
     "name": "stdout",
     "output_type": "stream",
     "text": [
      "b0 = 7.991020982270399, b1 = [1.32243102], error = 110.25738346621316\n",
      "CPU times: user 29.8 ms, sys: 3.89 ms, total: 33.7 ms\n",
      "Wall time: 509 ms\n"
     ]
    }
   ],
   "source": [
    "%%time\n",
    "model = linear_model.LinearRegression()\n",
    "X = [ [i] for i in x ] \n",
    "model.fit(X, y)\n",
    "b0, b1 = model.intercept_, model.coef_\n",
    "y_pred = model.predict(X)\n",
    "erro_regre = compute_error_for_line_given_points(b0, b1, x, y)\n",
    "print(\"b0 = {}, b1 = {}, error = {}\".format(b0, b1, erro_regre))"
   ]
  },
  {
   "cell_type": "markdown",
   "metadata": {},
   "source": [
    "## 4.1 O que ocorre quando você aumenta o valor de learning_rate para 0.01?"
   ]
  },
  {
   "cell_type": "code",
   "execution_count": 26,
   "metadata": {},
   "outputs": [
    {
     "name": "stdout",
     "output_type": "stream",
     "text": [
      "Inicia com b0 = 0, b1 = 0, error = 5565.107834483214\n",
      "Executando...\n"
     ]
    },
    {
     "name": "stderr",
     "output_type": "stream",
     "text": [
      "/home/yaagocruuz/anaconda3/lib/python3.6/site-packages/numpy/core/_methods.py:32: RuntimeWarning: overflow encountered in reduce\n",
      "  return umr_sum(a, axis, dtype, out, keepdims)\n",
      "/home/yaagocruuz/anaconda3/lib/python3.6/site-packages/ipykernel_launcher.py:12: RuntimeWarning: invalid value encountered in double_scalars\n",
      "  if sys.path[0] == '':\n"
     ]
    },
    {
     "name": "stdout",
     "output_type": "stream",
     "text": [
      "Após 380000 iterações, obtemos b0 = nan, b1 = nan, error = nan\n",
      "CPU times: user 22 s, sys: 8.06 ms, total: 22 s\n",
      "Wall time: 22.1 s\n"
     ]
    }
   ],
   "source": [
    "%%time\n",
    "x = points[:, 0]\n",
    "y = points[:, 1]\n",
    "learning_rate = 0.01\n",
    "initial_b0 = 0 # y-intercept inicial\n",
    "initial_b1 = 0 # inclinação inicial\n",
    "num_iterations = 380000\n",
    "run(x, y, initial_b0, initial_b1, learning_rate, num_iterations)"
   ]
  },
  {
   "cell_type": "markdown",
   "metadata": {},
   "source": [
    "## 4.2 Que valores de parâmetros podem ser usados com sucesso para obter um valor satisfatório para a métrica de erro ao usar um valor de learning_rate igual a 0.01"
   ]
  },
  {
   "cell_type": "code",
   "execution_count": 27,
   "metadata": {},
   "outputs": [
    {
     "name": "stdout",
     "output_type": "stream",
     "text": [
      "Inicia com b0 = 0, b1 = 0, error = 5565.107834483214\n",
      "Executando...\n",
      "Após 89 iterações, obtemos b0 = 5.797395039524365e+148, b1 = 2.9496234602465667e+150, error = 2.1688803463679651e+304\n",
      "CPU times: user 8.11 ms, sys: 4 µs, total: 8.11 ms\n",
      "Wall time: 7.5 ms\n"
     ]
    }
   ],
   "source": [
    "%%time\n",
    "x = points[:, 0]\n",
    "y = points[:, 1]\n",
    "learning_rate = 0.01\n",
    "initial_b0 = 0 # y-intercept inicial\n",
    "initial_b1 = 0 # inclinação inicial\n",
    "num_iterations = 89\n",
    "run(x, y, initial_b0, initial_b1, learning_rate, num_iterations)"
   ]
  },
  {
   "cell_type": "markdown",
   "metadata": {},
   "source": [
    "# 5. Use o gradiente descendente com boa precisão para:"
   ]
  },
  {
   "cell_type": "markdown",
   "metadata": {},
   "source": [
    "## 5.1 Criar um modelo linear a partir dos seguintes dados:"
   ]
  },
  {
   "cell_type": "code",
   "execution_count": 28,
   "metadata": {},
   "outputs": [],
   "source": [
    "# y = b0 + b1 * x\n",
    "# b1 é a inclinação, b0 é y-intercept\n",
    "def compute_error_for_line_given_points(b0, b1, x, y):\n",
    "    totalError = np.sum((y - (b1 * x + b0)) ** 2)\n",
    "    return totalError / float(len(y))\n",
    "\n",
    "def step_gradient(b0_current, b1_current, x, y, learning_rate):\n",
    "    N = float(len(y))\n",
    "    b0_gradient = 2/N * np.sum(-(y - ((b1_current * x) + b0_current)))\n",
    "    b1_gradient = 2/N * np.sum(-x * (y - ((b1_current * x) + b0_current)))\n",
    "    new_b0 = b0_current - (learning_rate * b0_gradient)\n",
    "    new_b1 = b1_current - (learning_rate * b1_gradient)\n",
    "    return new_b0, new_b1\n",
    "\n",
    "def gradient_descent_runner(x, y, b0, b1, learning_rate, num_iterations):\n",
    "    for _ in range(num_iterations):\n",
    "        b0, b1 = step_gradient(b0, b1, x, y, learning_rate)\n",
    "    return b0, b1\n",
    "\n",
    "def run(x, y, initial_b0, initial_b1, learning_rate, num_iterations):\n",
    "    print(\"Inicia com b0 = {}, b1 = {}, error = {}\".format(initial_b0, initial_b1, compute_error_for_line_given_points(initial_b0, initial_b1, x, y)))  \n",
    "    print(\"Executando...\")\n",
    "    b0, b1 = gradient_descent_runner(x, y, initial_b0, initial_b1, learning_rate, num_iterations)\n",
    "    print(\"Após {} iterações, obtemos b0 = {}, b1 = {}, error = {}\".format(num_iterations, b0, b1, compute_error_for_line_given_points(b0, b1, x, y)))"
   ]
  },
  {
   "cell_type": "code",
   "execution_count": 33,
   "metadata": {},
   "outputs": [],
   "source": [
    "points2 = np.array([[1400,245000], [1600,312000], [1700,279000], [1875,308000], [1100,199000],\n",
    "                    [1550,219000], [2350,405000], [2450,324000], [1425,319000], [1700,255000]])\n"
   ]
  },
  {
   "cell_type": "code",
   "execution_count": 36,
   "metadata": {},
   "outputs": [
    {
     "name": "stdout",
     "output_type": "stream",
     "text": [
      "b0 = 0.19052268188610638 e b1 = 164.14965135332437\n",
      "formula => y = 164.14965135332437 * x + 0.19052268188610638\n"
     ]
    }
   ],
   "source": [
    "x = points2[:, 0]\n",
    "y = points2[:, 1]\n",
    "learning_rate = 0.0000000001\n",
    "initial_b0 = 0 # y-intercept inicial\n",
    "initial_b1 = 0 # inclinação inicial\n",
    "num_iterations = 100000\n",
    "b0_, b1_= gradient_descent_runner(x,y,initial_b0,initial_b1,learning_rate,num_iterations)\n",
    "\n",
    "print(\"b0 = {} e b1 = {}\".format(b0_,b1_))\n",
    "print(\"formula => y = {} * x + {}\".format(b1_,b0_))"
   ]
  },
  {
   "cell_type": "markdown",
   "metadata": {},
   "source": [
    "## Predizer o preço em Dólares de uma casa com área de 100 m2 (converta adequadamente as unidades de medida). "
   ]
  },
  {
   "cell_type": "code",
   "execution_count": 37,
   "metadata": {},
   "outputs": [
    {
     "name": "stdout",
     "output_type": "stream",
     "text": [
      "Preço da casa com área de 100m2 = $176689.48080752132\n"
     ]
    }
   ],
   "source": [
    "preco_casa = (b1_ * (100/0.092903)) + b0_\n",
    "print(\"Preço da casa com área de 100m2 = ${}\".format(preco_casa))"
   ]
  },
  {
   "cell_type": "code",
   "execution_count": null,
   "metadata": {},
   "outputs": [],
   "source": []
  }
 ],
 "metadata": {
  "kernelspec": {
   "display_name": "Python 3",
   "language": "python",
   "name": "python3"
  },
  "language_info": {
   "codemirror_mode": {
    "name": "ipython",
    "version": 3
   },
   "file_extension": ".py",
   "mimetype": "text/x-python",
   "name": "python",
   "nbconvert_exporter": "python",
   "pygments_lexer": "ipython3",
   "version": "3.6.4"
  }
 },
 "nbformat": 4,
 "nbformat_minor": 2
}
